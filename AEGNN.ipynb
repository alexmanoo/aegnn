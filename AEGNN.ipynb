{
 "cells": [
  {
   "cell_type": "code",
   "execution_count": 1,
   "id": "bc4e07a5",
   "metadata": {},
   "outputs": [],
   "source": [
    "import os\n",
    "import shutil\n",
    "import random\n",
    "# Set the seed for reproducibility\n",
    "random.seed(42)"
   ]
  },
  {
   "cell_type": "markdown",
   "id": "2aef8ff1",
   "metadata": {},
   "source": [
    "# Prep dataset"
   ]
  },
  {
   "cell_type": "code",
   "execution_count": null,
   "id": "3efcdb67",
   "metadata": {},
   "outputs": [],
   "source": [
    "data_path = 'dataset/caltech.zip'\n",
    "\n",
    "if os.path.isfile(data_path):\n",
    "  print('Dataset zip already exists')\n",
    "else:\n",
    "  print('Downloading N-Caltech101 dataset...')\n",
    "  !mkdir dataset\n",
    "  !cd dataset && wget -O caltech.zip https://prod-dcd-datasets-cache-zipfiles.s3.eu-west-1.amazonaws.com/cy6cvx3ryv-1.zip"
   ]
  },
  {
   "cell_type": "code",
   "execution_count": null,
   "id": "bc2d8023",
   "metadata": {},
   "outputs": [],
   "source": [
    "### Go to `dataset` folder\n",
    "%cd dataset/"
   ]
  },
  {
   "cell_type": "code",
   "execution_count": null,
   "id": "134a7ef6",
   "metadata": {},
   "outputs": [],
   "source": [
    "### Unzip main zip\n",
    "!unzip caltech.zip"
   ]
  },
  {
   "cell_type": "code",
   "execution_count": null,
   "id": "6cd0aaa1",
   "metadata": {},
   "outputs": [],
   "source": [
    "### Unzip the actual dataset Caltech101:\n",
    "!unzip cy6cvx3ryv-1/Caltech101.zip"
   ]
  },
  {
   "cell_type": "code",
   "execution_count": null,
   "id": "70f1c632",
   "metadata": {
    "scrolled": true
   },
   "outputs": [],
   "source": [
    "### Unzip the annotations of Caltech101:\n",
    "!unzip cy6cvx3ryv-1/Caltech101_annotations.zip"
   ]
  },
  {
   "cell_type": "code",
   "execution_count": 6,
   "id": "f4816ab1",
   "metadata": {},
   "outputs": [],
   "source": [
    "### Make the new ncaltech101 main directory\n",
    "import os\n",
    "import shutil\n",
    "import random\n",
    "# Set the seed for reproducibility\n",
    "random.seed(42)\n",
    "\n",
    "!rm -rf ncaltech101\n",
    "\n",
    "original_dir = 'Caltech101'\n",
    "new_dir = 'ncaltech101'\n",
    "\n",
    "if os.path.exists(new_dir):\n",
    "    print('The directory `ncaltech101` already exists. Please delete it and try again.')\n",
    "else:\n",
    "  os.mkdir(new_dir)"
   ]
  },
  {
   "cell_type": "code",
   "execution_count": 7,
   "id": "bc45a317",
   "metadata": {},
   "outputs": [],
   "source": [
    "### Make the train, validation, test, raw, annotations directories.\n",
    "train_dir = os.path.join(new_dir, 'training')\n",
    "val_dir = os.path.join(new_dir, 'validation')\n",
    "test_dir = os.path.join(new_dir, 'test')\n",
    "raw_dir = os.path.join(new_dir, 'raw')\n",
    "ann_dir = os.path.join(new_dir, 'annotations')\n",
    "\n",
    "os.mkdir(train_dir)\n",
    "os.mkdir(val_dir)\n",
    "os.mkdir(test_dir)\n",
    "os.mkdir(raw_dir)\n",
    "os.mkdir(ann_dir)"
   ]
  },
  {
   "cell_type": "code",
   "execution_count": 8,
   "id": "55bd4d67",
   "metadata": {},
   "outputs": [],
   "source": [
    "### Copy annotations into ncaltech101/annotations dir.\n",
    "!cp -a 'Caltech101_annotations/.' 'ncaltech101/annotations'"
   ]
  },
  {
   "cell_type": "code",
   "execution_count": 9,
   "id": "f1a9a719",
   "metadata": {},
   "outputs": [
    {
     "name": "stdout",
     "output_type": "stream",
     "text": [
      "{'crocodile': 50, 'lotus': 66, 'menorah': 87, 'water_lilly': 37, 'chair': 62, 'stop_sign': 64, 'okapi': 39, 'flamingo_head': 45, 'panda': 38, 'dollar_bill': 52, 'yin_yang': 60, 'revolver': 82, 'ibis': 80, 'starfish': 86, 'cellphone': 59, 'Faces_easy': 435, 'hawksbill': 100, 'minaret': 76, 'crocodile_head': 51, 'car_side': 123, 'elephant': 64, 'cup': 57, 'ceiling_fan': 47, 'dalmatian': 67, 'butterfly': 91, 'chandelier': 107, 'anchor': 42, 'ewer': 85, 'pagoda': 47, 'crayfish': 70, 'ant': 42, 'octopus': 35, 'wheelchair': 59, 'emu': 53, 'brain': 98, 'trilobite': 86, 'joshua_tree': 64, 'sea_horse': 57, 'dolphin': 65, 'gramophone': 51, 'kangaroo': 86, 'windsor_chair': 56, 'gerenuk': 34, 'inline_skate': 31, 'wrench': 39, 'scorpion': 84, 'bass': 54, 'camera': 50, 'snoopy': 35, 'schooner': 63, 'beaver': 46, 'scissors': 39, 'barrel': 47, 'umbrella': 75, 'crab': 73, 'headphone': 42, 'cougar_body': 47, 'platypus': 34, 'pigeon': 45, 'hedgehog': 54, 'wild_cat': 34, 'euphonium': 64, 'saxophone': 40, 'rhino': 59, 'lobster': 41, 'accordion': 55, 'pizza': 53, 'sunflower': 85, 'tick': 49, 'stapler': 45, 'electric_guitar': 75, 'binocular': 33, 'helicopter': 88, 'pyramid': 57, 'ferry': 67, 'cannon': 43, 'grand_piano': 99, 'garfield': 34, 'airplanes': 800, 'lamp': 61, 'soccer_ball': 64, 'brontosaurus': 43, 'mandolin': 43, 'buddha': 85, 'Leopards': 200, 'bonsai': 128, 'cougar_face': 69, 'metronome': 32, 'laptop': 81, 'strawberry': 35, 'watch': 239, 'llama': 78, 'nautilus': 55, 'rooster': 49, 'stegosaurus': 59, 'dragonfly': 68, 'Motorbikes': 798, 'mayfly': 40, 'flamingo': 67, 'ketch': 114}\n"
     ]
    }
   ],
   "source": [
    "### Make a directory for each class in the train, validation, test and raw directories.\n",
    "### At the same time, get the number of images in each class.\n",
    "class_counts = {}\n",
    "\n",
    "class_folders = os.listdir(original_dir)\n",
    "\n",
    "for class_dir in class_folders:\n",
    "    os.mkdir(os.path.join(train_dir, class_dir))\n",
    "    os.mkdir(os.path.join(val_dir, class_dir))\n",
    "    os.mkdir(os.path.join(test_dir, class_dir))\n",
    "    os.mkdir(os.path.join(raw_dir, class_dir))\n",
    "\n",
    "    class_counts[class_dir] = len(os.listdir(os.path.join(original_dir, class_dir)))\n",
    "\n",
    "print (class_counts)"
   ]
  },
  {
   "cell_type": "code",
   "execution_count": 10,
   "id": "21a91d11",
   "metadata": {},
   "outputs": [],
   "source": [
    "### Copy the data into the train, validation and test directories (80%, 10%, 10%)\n",
    "for class_dir in class_folders:\n",
    "    images = os.listdir(os.path.join(original_dir, class_dir))\n",
    "    random.seed(42)\n",
    "    random.shuffle(images)\n",
    "\n",
    "    train_images = images[:int(0.8 * class_counts[class_dir])]\n",
    "    val_images = images[int(0.8 * class_counts[class_dir]):int(0.9 * class_counts[class_dir])]\n",
    "    test_images = images[int(0.9 * class_counts[class_dir]):]\n",
    "\n",
    "    for image in train_images:\n",
    "        shutil.copyfile(os.path.join(original_dir, class_dir, image), os.path.join(train_dir, class_dir, image))\n",
    "\n",
    "    for image in val_images:\n",
    "        shutil.copyfile(os.path.join(original_dir, class_dir, image), os.path.join(val_dir, class_dir, image))\n",
    "\n",
    "    for image in test_images:\n",
    "        shutil.copyfile(os.path.join(original_dir, class_dir, image), os.path.join(test_dir, class_dir, image))"
   ]
  },
  {
   "cell_type": "code",
   "execution_count": 11,
   "id": "f812cb21",
   "metadata": {},
   "outputs": [
    {
     "name": "stdout",
     "output_type": "stream",
     "text": [
      "ncaltech101/training 6559\n",
      "ncaltech101/validation 816\n",
      "ncaltech101/test 867\n"
     ]
    }
   ],
   "source": [
    "### Check that the data has been split correctly\n",
    "for split in [train_dir, val_dir, test_dir]:\n",
    "    total = 0\n",
    "    for class_dir in os.listdir(split):\n",
    "        total += len(os.listdir(os.path.join(split, class_dir)))\n",
    "    print(split, total)"
   ]
  },
  {
   "cell_type": "code",
   "execution_count": null,
   "id": "d24fa2e6",
   "metadata": {},
   "outputs": [],
   "source": [
    "%cd .."
   ]
  },
  {
   "cell_type": "code",
   "execution_count": null,
   "id": "0e8fca80",
   "metadata": {},
   "outputs": [],
   "source": [
    "%ls dataset/ncaltech101"
   ]
  },
  {
   "cell_type": "markdown",
   "id": "3b53d943",
   "metadata": {},
   "source": [
    "# Pre-processing"
   ]
  },
  {
   "cell_type": "code",
   "execution_count": 2,
   "id": "b5e14251",
   "metadata": {},
   "outputs": [
    {
     "name": "stdout",
     "output_type": "stream",
     "text": [
      "Defaulting to user installation because normal site-packages is not writeable\n",
      "Obtaining file:///home/alexmano/aegnn\n",
      "Installing collected packages: aegnn\n",
      "  Running setup.py develop for aegnn\n",
      "Successfully installed aegnn-0.0.0\n"
     ]
    }
   ],
   "source": [
    "!pip install -e ."
   ]
  },
  {
   "cell_type": "code",
   "execution_count": 12,
   "id": "6901e80a",
   "metadata": {},
   "outputs": [
    {
     "name": "stdout",
     "output_type": "stream",
     "text": [
      "Global seed set to 12345\n",
      "100%|██████████████████████████████████████| 6559/6559 [01:03<00:00, 104.01it/s]\n",
      "100%|████████████████████████████████████████| 816/816 [00:06<00:00, 127.27it/s]\n"
     ]
    }
   ],
   "source": [
    "! CUDA_VISIBLE_DEVICES=0 python scripts/preprocessing.py --dataset ncaltech101 --num-workers 0"
   ]
  },
  {
   "cell_type": "code",
   "execution_count": null,
   "id": "f4a01186",
   "metadata": {},
   "outputs": [],
   "source": [
    "! python scripts/train.py graph_res --task recognition --dataset ncaltech101 --gpu 0 --batch-size 16 --dim 3 --num-workers 0"
   ]
  },
  {
   "cell_type": "code",
   "execution_count": null,
   "id": "43b2c3a7",
   "metadata": {},
   "outputs": [],
   "source": [
    "! CUDA_VISIBLE_DEVICES=0 python evaluation/flops.py --device cuda"
   ]
  },
  {
   "attachments": {},
   "cell_type": "markdown",
   "id": "675c0d83",
   "metadata": {},
   "source": [
    "# Evaluate"
   ]
  },
  {
   "cell_type": "code",
   "execution_count": 1,
   "id": "338288f3",
   "metadata": {},
   "outputs": [
    {
     "name": "stdout",
     "output_type": "stream",
     "text": [
      "  0%|                                                    | 0/45 [00:00<?, ?it/s]/opt/conda/envs/aegnn/lib/python3.8/site-packages/torch/utils/data/dataloader.py:487: UserWarning: This DataLoader will create 16 worker processes in total. Our suggested max number of worker in current system is 8, which is smaller than what this DataLoader is going to create. Please be aware that excessive worker creation might get DataLoader running slow or even freeze, lower the worker number to avoid potential slowness/freeze if necessary.\n",
      "  warnings.warn(_create_warning_msg(\n",
      "/opt/conda/envs/aegnn/lib/python3.8/site-packages/deprecate/deprecation.py:115: LightningDeprecationWarning: The `accuracy` was deprecated since v1.3.0 in favor of `torchmetrics.functional.classification.accuracy.accuracy`. It will be removed in v1.5.0.\n",
      "  stream(template_mgs % msg_args)\n",
      "evaluation/accuracy_per_events.py:80: FutureWarning: The frame.append method is deprecated and will be removed from pandas in a future version. Use pandas.concat instead.\n",
      "  df = df.append({\"accuracy\": accuracy, \"max_num_events\": max_count}, ignore_index=True)\n",
      "  2%|▉                                           | 1/45 [00:19<14:20, 19.55s/it]/opt/conda/envs/aegnn/lib/python3.8/site-packages/torch/utils/data/dataloader.py:487: UserWarning: This DataLoader will create 16 worker processes in total. Our suggested max number of worker in current system is 8, which is smaller than what this DataLoader is going to create. Please be aware that excessive worker creation might get DataLoader running slow or even freeze, lower the worker number to avoid potential slowness/freeze if necessary.\n",
      "  warnings.warn(_create_warning_msg(\n",
      "evaluation/accuracy_per_events.py:80: FutureWarning: The frame.append method is deprecated and will be removed from pandas in a future version. Use pandas.concat instead.\n",
      "  df = df.append({\"accuracy\": accuracy, \"max_num_events\": max_count}, ignore_index=True)\n",
      "  4%|█▉                                          | 2/45 [00:38<13:36, 18.98s/it]/opt/conda/envs/aegnn/lib/python3.8/site-packages/torch/utils/data/dataloader.py:487: UserWarning: This DataLoader will create 16 worker processes in total. Our suggested max number of worker in current system is 8, which is smaller than what this DataLoader is going to create. Please be aware that excessive worker creation might get DataLoader running slow or even freeze, lower the worker number to avoid potential slowness/freeze if necessary.\n",
      "  warnings.warn(_create_warning_msg(\n",
      "evaluation/accuracy_per_events.py:80: FutureWarning: The frame.append method is deprecated and will be removed from pandas in a future version. Use pandas.concat instead.\n",
      "  df = df.append({\"accuracy\": accuracy, \"max_num_events\": max_count}, ignore_index=True)\n",
      "  7%|██▉                                         | 3/45 [01:00<14:18, 20.44s/it]/opt/conda/envs/aegnn/lib/python3.8/site-packages/torch/utils/data/dataloader.py:487: UserWarning: This DataLoader will create 16 worker processes in total. Our suggested max number of worker in current system is 8, which is smaller than what this DataLoader is going to create. Please be aware that excessive worker creation might get DataLoader running slow or even freeze, lower the worker number to avoid potential slowness/freeze if necessary.\n",
      "  warnings.warn(_create_warning_msg(\n",
      "evaluation/accuracy_per_events.py:80: FutureWarning: The frame.append method is deprecated and will be removed from pandas in a future version. Use pandas.concat instead.\n",
      "  df = df.append({\"accuracy\": accuracy, \"max_num_events\": max_count}, ignore_index=True)\n",
      "  9%|███▉                                        | 4/45 [01:18<13:25, 19.63s/it]/opt/conda/envs/aegnn/lib/python3.8/site-packages/torch/utils/data/dataloader.py:487: UserWarning: This DataLoader will create 16 worker processes in total. Our suggested max number of worker in current system is 8, which is smaller than what this DataLoader is going to create. Please be aware that excessive worker creation might get DataLoader running slow or even freeze, lower the worker number to avoid potential slowness/freeze if necessary.\n",
      "  warnings.warn(_create_warning_msg(\n",
      "evaluation/accuracy_per_events.py:80: FutureWarning: The frame.append method is deprecated and will be removed from pandas in a future version. Use pandas.concat instead.\n",
      "  df = df.append({\"accuracy\": accuracy, \"max_num_events\": max_count}, ignore_index=True)\n",
      " 11%|████▉                                       | 5/45 [01:37<12:54, 19.37s/it]/opt/conda/envs/aegnn/lib/python3.8/site-packages/torch/utils/data/dataloader.py:487: UserWarning: This DataLoader will create 16 worker processes in total. Our suggested max number of worker in current system is 8, which is smaller than what this DataLoader is going to create. Please be aware that excessive worker creation might get DataLoader running slow or even freeze, lower the worker number to avoid potential slowness/freeze if necessary.\n",
      "  warnings.warn(_create_warning_msg(\n",
      "evaluation/accuracy_per_events.py:80: FutureWarning: The frame.append method is deprecated and will be removed from pandas in a future version. Use pandas.concat instead.\n",
      "  df = df.append({\"accuracy\": accuracy, \"max_num_events\": max_count}, ignore_index=True)\n",
      " 13%|█████▊                                      | 6/45 [01:59<13:15, 20.39s/it]/opt/conda/envs/aegnn/lib/python3.8/site-packages/torch/utils/data/dataloader.py:487: UserWarning: This DataLoader will create 16 worker processes in total. Our suggested max number of worker in current system is 8, which is smaller than what this DataLoader is going to create. Please be aware that excessive worker creation might get DataLoader running slow or even freeze, lower the worker number to avoid potential slowness/freeze if necessary.\n",
      "  warnings.warn(_create_warning_msg(\n",
      "evaluation/accuracy_per_events.py:80: FutureWarning: The frame.append method is deprecated and will be removed from pandas in a future version. Use pandas.concat instead.\n",
      "  df = df.append({\"accuracy\": accuracy, \"max_num_events\": max_count}, ignore_index=True)\n",
      " 16%|██████▊                                     | 7/45 [02:19<12:45, 20.14s/it]/opt/conda/envs/aegnn/lib/python3.8/site-packages/torch/utils/data/dataloader.py:487: UserWarning: This DataLoader will create 16 worker processes in total. Our suggested max number of worker in current system is 8, which is smaller than what this DataLoader is going to create. Please be aware that excessive worker creation might get DataLoader running slow or even freeze, lower the worker number to avoid potential slowness/freeze if necessary.\n",
      "  warnings.warn(_create_warning_msg(\n",
      "evaluation/accuracy_per_events.py:80: FutureWarning: The frame.append method is deprecated and will be removed from pandas in a future version. Use pandas.concat instead.\n",
      "  df = df.append({\"accuracy\": accuracy, \"max_num_events\": max_count}, ignore_index=True)\n",
      " 18%|███████▊                                    | 8/45 [02:39<12:23, 20.10s/it]/opt/conda/envs/aegnn/lib/python3.8/site-packages/torch/utils/data/dataloader.py:487: UserWarning: This DataLoader will create 16 worker processes in total. Our suggested max number of worker in current system is 8, which is smaller than what this DataLoader is going to create. Please be aware that excessive worker creation might get DataLoader running slow or even freeze, lower the worker number to avoid potential slowness/freeze if necessary.\n",
      "  warnings.warn(_create_warning_msg(\n",
      "evaluation/accuracy_per_events.py:80: FutureWarning: The frame.append method is deprecated and will be removed from pandas in a future version. Use pandas.concat instead.\n",
      "  df = df.append({\"accuracy\": accuracy, \"max_num_events\": max_count}, ignore_index=True)\n",
      " 20%|████████▊                                   | 9/45 [03:03<12:46, 21.29s/it]/opt/conda/envs/aegnn/lib/python3.8/site-packages/torch/utils/data/dataloader.py:487: UserWarning: This DataLoader will create 16 worker processes in total. Our suggested max number of worker in current system is 8, which is smaller than what this DataLoader is going to create. Please be aware that excessive worker creation might get DataLoader running slow or even freeze, lower the worker number to avoid potential slowness/freeze if necessary.\n",
      "  warnings.warn(_create_warning_msg(\n",
      "evaluation/accuracy_per_events.py:80: FutureWarning: The frame.append method is deprecated and will be removed from pandas in a future version. Use pandas.concat instead.\n",
      "  df = df.append({\"accuracy\": accuracy, \"max_num_events\": max_count}, ignore_index=True)\n",
      " 22%|█████████▌                                 | 10/45 [03:25<12:33, 21.54s/it]/opt/conda/envs/aegnn/lib/python3.8/site-packages/torch/utils/data/dataloader.py:487: UserWarning: This DataLoader will create 16 worker processes in total. Our suggested max number of worker in current system is 8, which is smaller than what this DataLoader is going to create. Please be aware that excessive worker creation might get DataLoader running slow or even freeze, lower the worker number to avoid potential slowness/freeze if necessary.\n",
      "  warnings.warn(_create_warning_msg(\n",
      "evaluation/accuracy_per_events.py:80: FutureWarning: The frame.append method is deprecated and will be removed from pandas in a future version. Use pandas.concat instead.\n",
      "  df = df.append({\"accuracy\": accuracy, \"max_num_events\": max_count}, ignore_index=True)\n",
      " 24%|██████████▌                                | 11/45 [03:49<12:37, 22.27s/it]/opt/conda/envs/aegnn/lib/python3.8/site-packages/torch/utils/data/dataloader.py:487: UserWarning: This DataLoader will create 16 worker processes in total. Our suggested max number of worker in current system is 8, which is smaller than what this DataLoader is going to create. Please be aware that excessive worker creation might get DataLoader running slow or even freeze, lower the worker number to avoid potential slowness/freeze if necessary.\n",
      "  warnings.warn(_create_warning_msg(\n",
      "evaluation/accuracy_per_events.py:80: FutureWarning: The frame.append method is deprecated and will be removed from pandas in a future version. Use pandas.concat instead.\n",
      "  df = df.append({\"accuracy\": accuracy, \"max_num_events\": max_count}, ignore_index=True)\n",
      " 27%|███████████▍                               | 12/45 [04:13<12:30, 22.73s/it]/opt/conda/envs/aegnn/lib/python3.8/site-packages/torch/utils/data/dataloader.py:487: UserWarning: This DataLoader will create 16 worker processes in total. Our suggested max number of worker in current system is 8, which is smaller than what this DataLoader is going to create. Please be aware that excessive worker creation might get DataLoader running slow or even freeze, lower the worker number to avoid potential slowness/freeze if necessary.\n",
      "  warnings.warn(_create_warning_msg(\n",
      "evaluation/accuracy_per_events.py:80: FutureWarning: The frame.append method is deprecated and will be removed from pandas in a future version. Use pandas.concat instead.\n",
      "  df = df.append({\"accuracy\": accuracy, \"max_num_events\": max_count}, ignore_index=True)\n",
      " 29%|████████████▍                              | 13/45 [04:39<12:35, 23.62s/it]/opt/conda/envs/aegnn/lib/python3.8/site-packages/torch/utils/data/dataloader.py:487: UserWarning: This DataLoader will create 16 worker processes in total. Our suggested max number of worker in current system is 8, which is smaller than what this DataLoader is going to create. Please be aware that excessive worker creation might get DataLoader running slow or even freeze, lower the worker number to avoid potential slowness/freeze if necessary.\n",
      "  warnings.warn(_create_warning_msg(\n",
      "evaluation/accuracy_per_events.py:80: FutureWarning: The frame.append method is deprecated and will be removed from pandas in a future version. Use pandas.concat instead.\n",
      "  df = df.append({\"accuracy\": accuracy, \"max_num_events\": max_count}, ignore_index=True)\n",
      " 31%|█████████████▍                             | 14/45 [05:08<13:05, 25.35s/it]/opt/conda/envs/aegnn/lib/python3.8/site-packages/torch/utils/data/dataloader.py:487: UserWarning: This DataLoader will create 16 worker processes in total. Our suggested max number of worker in current system is 8, which is smaller than what this DataLoader is going to create. Please be aware that excessive worker creation might get DataLoader running slow or even freeze, lower the worker number to avoid potential slowness/freeze if necessary.\n",
      "  warnings.warn(_create_warning_msg(\n",
      "evaluation/accuracy_per_events.py:80: FutureWarning: The frame.append method is deprecated and will be removed from pandas in a future version. Use pandas.concat instead.\n",
      "  df = df.append({\"accuracy\": accuracy, \"max_num_events\": max_count}, ignore_index=True)\n",
      " 33%|██████████████▎                            | 15/45 [05:36<13:01, 26.06s/it]/opt/conda/envs/aegnn/lib/python3.8/site-packages/torch/utils/data/dataloader.py:487: UserWarning: This DataLoader will create 16 worker processes in total. Our suggested max number of worker in current system is 8, which is smaller than what this DataLoader is going to create. Please be aware that excessive worker creation might get DataLoader running slow or even freeze, lower the worker number to avoid potential slowness/freeze if necessary.\n",
      "  warnings.warn(_create_warning_msg(\n",
      "evaluation/accuracy_per_events.py:80: FutureWarning: The frame.append method is deprecated and will be removed from pandas in a future version. Use pandas.concat instead.\n",
      "  df = df.append({\"accuracy\": accuracy, \"max_num_events\": max_count}, ignore_index=True)\n",
      " 36%|███████████████▎                           | 16/45 [06:07<13:24, 27.76s/it]/opt/conda/envs/aegnn/lib/python3.8/site-packages/torch/utils/data/dataloader.py:487: UserWarning: This DataLoader will create 16 worker processes in total. Our suggested max number of worker in current system is 8, which is smaller than what this DataLoader is going to create. Please be aware that excessive worker creation might get DataLoader running slow or even freeze, lower the worker number to avoid potential slowness/freeze if necessary.\n",
      "  warnings.warn(_create_warning_msg(\n",
      "evaluation/accuracy_per_events.py:80: FutureWarning: The frame.append method is deprecated and will be removed from pandas in a future version. Use pandas.concat instead.\n",
      "  df = df.append({\"accuracy\": accuracy, \"max_num_events\": max_count}, ignore_index=True)\n",
      " 38%|████████████████▏                          | 17/45 [06:38<13:20, 28.58s/it]/opt/conda/envs/aegnn/lib/python3.8/site-packages/torch/utils/data/dataloader.py:487: UserWarning: This DataLoader will create 16 worker processes in total. Our suggested max number of worker in current system is 8, which is smaller than what this DataLoader is going to create. Please be aware that excessive worker creation might get DataLoader running slow or even freeze, lower the worker number to avoid potential slowness/freeze if necessary.\n",
      "  warnings.warn(_create_warning_msg(\n",
      "evaluation/accuracy_per_events.py:80: FutureWarning: The frame.append method is deprecated and will be removed from pandas in a future version. Use pandas.concat instead.\n",
      "  df = df.append({\"accuracy\": accuracy, \"max_num_events\": max_count}, ignore_index=True)\n",
      " 40%|█████████████████▏                         | 18/45 [07:13<13:47, 30.63s/it]/opt/conda/envs/aegnn/lib/python3.8/site-packages/torch/utils/data/dataloader.py:487: UserWarning: This DataLoader will create 16 worker processes in total. Our suggested max number of worker in current system is 8, which is smaller than what this DataLoader is going to create. Please be aware that excessive worker creation might get DataLoader running slow or even freeze, lower the worker number to avoid potential slowness/freeze if necessary.\n",
      "  warnings.warn(_create_warning_msg(\n",
      "evaluation/accuracy_per_events.py:80: FutureWarning: The frame.append method is deprecated and will be removed from pandas in a future version. Use pandas.concat instead.\n",
      "  df = df.append({\"accuracy\": accuracy, \"max_num_events\": max_count}, ignore_index=True)\n",
      " 42%|██████████████████▏                        | 19/45 [07:48<13:48, 31.85s/it]/opt/conda/envs/aegnn/lib/python3.8/site-packages/torch/utils/data/dataloader.py:487: UserWarning: This DataLoader will create 16 worker processes in total. Our suggested max number of worker in current system is 8, which is smaller than what this DataLoader is going to create. Please be aware that excessive worker creation might get DataLoader running slow or even freeze, lower the worker number to avoid potential slowness/freeze if necessary.\n",
      "  warnings.warn(_create_warning_msg(\n",
      "evaluation/accuracy_per_events.py:80: FutureWarning: The frame.append method is deprecated and will be removed from pandas in a future version. Use pandas.concat instead.\n",
      "  df = df.append({\"accuracy\": accuracy, \"max_num_events\": max_count}, ignore_index=True)\n",
      " 44%|███████████████████                        | 20/45 [08:23<13:40, 32.83s/it]/opt/conda/envs/aegnn/lib/python3.8/site-packages/torch/utils/data/dataloader.py:487: UserWarning: This DataLoader will create 16 worker processes in total. Our suggested max number of worker in current system is 8, which is smaller than what this DataLoader is going to create. Please be aware that excessive worker creation might get DataLoader running slow or even freeze, lower the worker number to avoid potential slowness/freeze if necessary.\n",
      "  warnings.warn(_create_warning_msg(\n",
      "evaluation/accuracy_per_events.py:80: FutureWarning: The frame.append method is deprecated and will be removed from pandas in a future version. Use pandas.concat instead.\n",
      "  df = df.append({\"accuracy\": accuracy, \"max_num_events\": max_count}, ignore_index=True)\n",
      " 47%|████████████████████                       | 21/45 [09:01<13:48, 34.51s/it]/opt/conda/envs/aegnn/lib/python3.8/site-packages/torch/utils/data/dataloader.py:487: UserWarning: This DataLoader will create 16 worker processes in total. Our suggested max number of worker in current system is 8, which is smaller than what this DataLoader is going to create. Please be aware that excessive worker creation might get DataLoader running slow or even freeze, lower the worker number to avoid potential slowness/freeze if necessary.\n",
      "  warnings.warn(_create_warning_msg(\n",
      "evaluation/accuracy_per_events.py:80: FutureWarning: The frame.append method is deprecated and will be removed from pandas in a future version. Use pandas.concat instead.\n",
      "  df = df.append({\"accuracy\": accuracy, \"max_num_events\": max_count}, ignore_index=True)\n",
      " 49%|█████████████████████                      | 22/45 [09:40<13:41, 35.70s/it]/opt/conda/envs/aegnn/lib/python3.8/site-packages/torch/utils/data/dataloader.py:487: UserWarning: This DataLoader will create 16 worker processes in total. Our suggested max number of worker in current system is 8, which is smaller than what this DataLoader is going to create. Please be aware that excessive worker creation might get DataLoader running slow or even freeze, lower the worker number to avoid potential slowness/freeze if necessary.\n",
      "  warnings.warn(_create_warning_msg(\n",
      "evaluation/accuracy_per_events.py:80: FutureWarning: The frame.append method is deprecated and will be removed from pandas in a future version. Use pandas.concat instead.\n",
      "  df = df.append({\"accuracy\": accuracy, \"max_num_events\": max_count}, ignore_index=True)\n",
      " 51%|█████████████████████▉                     | 23/45 [10:23<13:52, 37.86s/it]/opt/conda/envs/aegnn/lib/python3.8/site-packages/torch/utils/data/dataloader.py:487: UserWarning: This DataLoader will create 16 worker processes in total. Our suggested max number of worker in current system is 8, which is smaller than what this DataLoader is going to create. Please be aware that excessive worker creation might get DataLoader running slow or even freeze, lower the worker number to avoid potential slowness/freeze if necessary.\n",
      "  warnings.warn(_create_warning_msg(\n",
      "evaluation/accuracy_per_events.py:80: FutureWarning: The frame.append method is deprecated and will be removed from pandas in a future version. Use pandas.concat instead.\n",
      "  df = df.append({\"accuracy\": accuracy, \"max_num_events\": max_count}, ignore_index=True)\n",
      " 53%|██████████████████████▉                    | 24/45 [11:06<13:48, 39.45s/it]/opt/conda/envs/aegnn/lib/python3.8/site-packages/torch/utils/data/dataloader.py:487: UserWarning: This DataLoader will create 16 worker processes in total. Our suggested max number of worker in current system is 8, which is smaller than what this DataLoader is going to create. Please be aware that excessive worker creation might get DataLoader running slow or even freeze, lower the worker number to avoid potential slowness/freeze if necessary.\n",
      "  warnings.warn(_create_warning_msg(\n",
      "evaluation/accuracy_per_events.py:80: FutureWarning: The frame.append method is deprecated and will be removed from pandas in a future version. Use pandas.concat instead.\n",
      "  df = df.append({\"accuracy\": accuracy, \"max_num_events\": max_count}, ignore_index=True)\n",
      " 56%|███████████████████████▉                   | 25/45 [11:50<13:36, 40.81s/it]/opt/conda/envs/aegnn/lib/python3.8/site-packages/torch/utils/data/dataloader.py:487: UserWarning: This DataLoader will create 16 worker processes in total. Our suggested max number of worker in current system is 8, which is smaller than what this DataLoader is going to create. Please be aware that excessive worker creation might get DataLoader running slow or even freeze, lower the worker number to avoid potential slowness/freeze if necessary.\n",
      "  warnings.warn(_create_warning_msg(\n",
      "evaluation/accuracy_per_events.py:80: FutureWarning: The frame.append method is deprecated and will be removed from pandas in a future version. Use pandas.concat instead.\n",
      "  df = df.append({\"accuracy\": accuracy, \"max_num_events\": max_count}, ignore_index=True)\n",
      " 58%|████████████████████████▊                  | 26/45 [12:35<13:17, 41.95s/it]/opt/conda/envs/aegnn/lib/python3.8/site-packages/torch/utils/data/dataloader.py:487: UserWarning: This DataLoader will create 16 worker processes in total. Our suggested max number of worker in current system is 8, which is smaller than what this DataLoader is going to create. Please be aware that excessive worker creation might get DataLoader running slow or even freeze, lower the worker number to avoid potential slowness/freeze if necessary.\n",
      "  warnings.warn(_create_warning_msg(\n",
      "evaluation/accuracy_per_events.py:80: FutureWarning: The frame.append method is deprecated and will be removed from pandas in a future version. Use pandas.concat instead.\n",
      "  df = df.append({\"accuracy\": accuracy, \"max_num_events\": max_count}, ignore_index=True)\n",
      " 60%|█████████████████████████▊                 | 27/45 [13:22<13:07, 43.76s/it]/opt/conda/envs/aegnn/lib/python3.8/site-packages/torch/utils/data/dataloader.py:487: UserWarning: This DataLoader will create 16 worker processes in total. Our suggested max number of worker in current system is 8, which is smaller than what this DataLoader is going to create. Please be aware that excessive worker creation might get DataLoader running slow or even freeze, lower the worker number to avoid potential slowness/freeze if necessary.\n",
      "  warnings.warn(_create_warning_msg(\n",
      "evaluation/accuracy_per_events.py:80: FutureWarning: The frame.append method is deprecated and will be removed from pandas in a future version. Use pandas.concat instead.\n",
      "  df = df.append({\"accuracy\": accuracy, \"max_num_events\": max_count}, ignore_index=True)\n",
      " 62%|██████████████████████████▊                | 28/45 [14:11<12:49, 45.28s/it]/opt/conda/envs/aegnn/lib/python3.8/site-packages/torch/utils/data/dataloader.py:487: UserWarning: This DataLoader will create 16 worker processes in total. Our suggested max number of worker in current system is 8, which is smaller than what this DataLoader is going to create. Please be aware that excessive worker creation might get DataLoader running slow or even freeze, lower the worker number to avoid potential slowness/freeze if necessary.\n",
      "  warnings.warn(_create_warning_msg(\n",
      "evaluation/accuracy_per_events.py:80: FutureWarning: The frame.append method is deprecated and will be removed from pandas in a future version. Use pandas.concat instead.\n",
      "  df = df.append({\"accuracy\": accuracy, \"max_num_events\": max_count}, ignore_index=True)\n",
      " 64%|███████████████████████████▋               | 29/45 [15:02<12:28, 46.78s/it]/opt/conda/envs/aegnn/lib/python3.8/site-packages/torch/utils/data/dataloader.py:487: UserWarning: This DataLoader will create 16 worker processes in total. Our suggested max number of worker in current system is 8, which is smaller than what this DataLoader is going to create. Please be aware that excessive worker creation might get DataLoader running slow or even freeze, lower the worker number to avoid potential slowness/freeze if necessary.\n",
      "  warnings.warn(_create_warning_msg(\n",
      "evaluation/accuracy_per_events.py:80: FutureWarning: The frame.append method is deprecated and will be removed from pandas in a future version. Use pandas.concat instead.\n",
      "  df = df.append({\"accuracy\": accuracy, \"max_num_events\": max_count}, ignore_index=True)\n",
      " 67%|████████████████████████████▋              | 30/45 [15:53<12:02, 48.18s/it]/opt/conda/envs/aegnn/lib/python3.8/site-packages/torch/utils/data/dataloader.py:487: UserWarning: This DataLoader will create 16 worker processes in total. Our suggested max number of worker in current system is 8, which is smaller than what this DataLoader is going to create. Please be aware that excessive worker creation might get DataLoader running slow or even freeze, lower the worker number to avoid potential slowness/freeze if necessary.\n",
      "  warnings.warn(_create_warning_msg(\n",
      "evaluation/accuracy_per_events.py:80: FutureWarning: The frame.append method is deprecated and will be removed from pandas in a future version. Use pandas.concat instead.\n",
      "  df = df.append({\"accuracy\": accuracy, \"max_num_events\": max_count}, ignore_index=True)\n",
      " 69%|█████████████████████████████▌             | 31/45 [16:46<11:35, 49.67s/it]/opt/conda/envs/aegnn/lib/python3.8/site-packages/torch/utils/data/dataloader.py:487: UserWarning: This DataLoader will create 16 worker processes in total. Our suggested max number of worker in current system is 8, which is smaller than what this DataLoader is going to create. Please be aware that excessive worker creation might get DataLoader running slow or even freeze, lower the worker number to avoid potential slowness/freeze if necessary.\n",
      "  warnings.warn(_create_warning_msg(\n",
      "evaluation/accuracy_per_events.py:80: FutureWarning: The frame.append method is deprecated and will be removed from pandas in a future version. Use pandas.concat instead.\n",
      "  df = df.append({\"accuracy\": accuracy, \"max_num_events\": max_count}, ignore_index=True)\n",
      " 71%|██████████████████████████████▌            | 32/45 [17:40<11:02, 50.98s/it]/opt/conda/envs/aegnn/lib/python3.8/site-packages/torch/utils/data/dataloader.py:487: UserWarning: This DataLoader will create 16 worker processes in total. Our suggested max number of worker in current system is 8, which is smaller than what this DataLoader is going to create. Please be aware that excessive worker creation might get DataLoader running slow or even freeze, lower the worker number to avoid potential slowness/freeze if necessary.\n",
      "  warnings.warn(_create_warning_msg(\n",
      "evaluation/accuracy_per_events.py:80: FutureWarning: The frame.append method is deprecated and will be removed from pandas in a future version. Use pandas.concat instead.\n",
      "  df = df.append({\"accuracy\": accuracy, \"max_num_events\": max_count}, ignore_index=True)\n",
      " 73%|███████████████████████████████▌           | 33/45 [18:39<10:39, 53.29s/it]/opt/conda/envs/aegnn/lib/python3.8/site-packages/torch/utils/data/dataloader.py:487: UserWarning: This DataLoader will create 16 worker processes in total. Our suggested max number of worker in current system is 8, which is smaller than what this DataLoader is going to create. Please be aware that excessive worker creation might get DataLoader running slow or even freeze, lower the worker number to avoid potential slowness/freeze if necessary.\n",
      "  warnings.warn(_create_warning_msg(\n",
      "evaluation/accuracy_per_events.py:80: FutureWarning: The frame.append method is deprecated and will be removed from pandas in a future version. Use pandas.concat instead.\n",
      "  df = df.append({\"accuracy\": accuracy, \"max_num_events\": max_count}, ignore_index=True)\n",
      " 76%|████████████████████████████████▍          | 34/45 [19:39<10:07, 55.19s/it]/opt/conda/envs/aegnn/lib/python3.8/site-packages/torch/utils/data/dataloader.py:487: UserWarning: This DataLoader will create 16 worker processes in total. Our suggested max number of worker in current system is 8, which is smaller than what this DataLoader is going to create. Please be aware that excessive worker creation might get DataLoader running slow or even freeze, lower the worker number to avoid potential slowness/freeze if necessary.\n",
      "  warnings.warn(_create_warning_msg(\n",
      "evaluation/accuracy_per_events.py:80: FutureWarning: The frame.append method is deprecated and will be removed from pandas in a future version. Use pandas.concat instead.\n",
      "  df = df.append({\"accuracy\": accuracy, \"max_num_events\": max_count}, ignore_index=True)\n",
      " 78%|█████████████████████████████████▍         | 35/45 [20:40<09:29, 56.97s/it]/opt/conda/envs/aegnn/lib/python3.8/site-packages/torch/utils/data/dataloader.py:487: UserWarning: This DataLoader will create 16 worker processes in total. Our suggested max number of worker in current system is 8, which is smaller than what this DataLoader is going to create. Please be aware that excessive worker creation might get DataLoader running slow or even freeze, lower the worker number to avoid potential slowness/freeze if necessary.\n",
      "  warnings.warn(_create_warning_msg(\n",
      "evaluation/accuracy_per_events.py:80: FutureWarning: The frame.append method is deprecated and will be removed from pandas in a future version. Use pandas.concat instead.\n",
      "  df = df.append({\"accuracy\": accuracy, \"max_num_events\": max_count}, ignore_index=True)\n",
      " 80%|██████████████████████████████████▍        | 36/45 [21:43<08:49, 58.79s/it]/opt/conda/envs/aegnn/lib/python3.8/site-packages/torch/utils/data/dataloader.py:487: UserWarning: This DataLoader will create 16 worker processes in total. Our suggested max number of worker in current system is 8, which is smaller than what this DataLoader is going to create. Please be aware that excessive worker creation might get DataLoader running slow or even freeze, lower the worker number to avoid potential slowness/freeze if necessary.\n",
      "  warnings.warn(_create_warning_msg(\n",
      "evaluation/accuracy_per_events.py:80: FutureWarning: The frame.append method is deprecated and will be removed from pandas in a future version. Use pandas.concat instead.\n",
      "  df = df.append({\"accuracy\": accuracy, \"max_num_events\": max_count}, ignore_index=True)\n",
      " 82%|███████████████████████████████████▎       | 37/45 [22:48<08:06, 60.87s/it]/opt/conda/envs/aegnn/lib/python3.8/site-packages/torch/utils/data/dataloader.py:487: UserWarning: This DataLoader will create 16 worker processes in total. Our suggested max number of worker in current system is 8, which is smaller than what this DataLoader is going to create. Please be aware that excessive worker creation might get DataLoader running slow or even freeze, lower the worker number to avoid potential slowness/freeze if necessary.\n",
      "  warnings.warn(_create_warning_msg(\n",
      "evaluation/accuracy_per_events.py:80: FutureWarning: The frame.append method is deprecated and will be removed from pandas in a future version. Use pandas.concat instead.\n",
      "  df = df.append({\"accuracy\": accuracy, \"max_num_events\": max_count}, ignore_index=True)\n",
      " 84%|████████████████████████████████████▎      | 38/45 [23:52<07:12, 61.82s/it]/opt/conda/envs/aegnn/lib/python3.8/site-packages/torch/utils/data/dataloader.py:487: UserWarning: This DataLoader will create 16 worker processes in total. Our suggested max number of worker in current system is 8, which is smaller than what this DataLoader is going to create. Please be aware that excessive worker creation might get DataLoader running slow or even freeze, lower the worker number to avoid potential slowness/freeze if necessary.\n",
      "  warnings.warn(_create_warning_msg(\n",
      "evaluation/accuracy_per_events.py:80: FutureWarning: The frame.append method is deprecated and will be removed from pandas in a future version. Use pandas.concat instead.\n",
      "  df = df.append({\"accuracy\": accuracy, \"max_num_events\": max_count}, ignore_index=True)\n",
      " 87%|█████████████████████████████████████▎     | 39/45 [24:59<06:18, 63.10s/it]/opt/conda/envs/aegnn/lib/python3.8/site-packages/torch/utils/data/dataloader.py:487: UserWarning: This DataLoader will create 16 worker processes in total. Our suggested max number of worker in current system is 8, which is smaller than what this DataLoader is going to create. Please be aware that excessive worker creation might get DataLoader running slow or even freeze, lower the worker number to avoid potential slowness/freeze if necessary.\n",
      "  warnings.warn(_create_warning_msg(\n",
      "evaluation/accuracy_per_events.py:80: FutureWarning: The frame.append method is deprecated and will be removed from pandas in a future version. Use pandas.concat instead.\n",
      "  df = df.append({\"accuracy\": accuracy, \"max_num_events\": max_count}, ignore_index=True)\n",
      " 89%|██████████████████████████████████████▏    | 40/45 [26:06<05:22, 64.42s/it]/opt/conda/envs/aegnn/lib/python3.8/site-packages/torch/utils/data/dataloader.py:487: UserWarning: This DataLoader will create 16 worker processes in total. Our suggested max number of worker in current system is 8, which is smaller than what this DataLoader is going to create. Please be aware that excessive worker creation might get DataLoader running slow or even freeze, lower the worker number to avoid potential slowness/freeze if necessary.\n",
      "  warnings.warn(_create_warning_msg(\n",
      "evaluation/accuracy_per_events.py:80: FutureWarning: The frame.append method is deprecated and will be removed from pandas in a future version. Use pandas.concat instead.\n",
      "  df = df.append({\"accuracy\": accuracy, \"max_num_events\": max_count}, ignore_index=True)\n",
      " 91%|███████████████████████████████████████▏   | 41/45 [27:15<04:23, 65.90s/it]/opt/conda/envs/aegnn/lib/python3.8/site-packages/torch/utils/data/dataloader.py:487: UserWarning: This DataLoader will create 16 worker processes in total. Our suggested max number of worker in current system is 8, which is smaller than what this DataLoader is going to create. Please be aware that excessive worker creation might get DataLoader running slow or even freeze, lower the worker number to avoid potential slowness/freeze if necessary.\n",
      "  warnings.warn(_create_warning_msg(\n",
      "evaluation/accuracy_per_events.py:80: FutureWarning: The frame.append method is deprecated and will be removed from pandas in a future version. Use pandas.concat instead.\n",
      "  df = df.append({\"accuracy\": accuracy, \"max_num_events\": max_count}, ignore_index=True)\n",
      " 93%|████████████████████████████████████████▏  | 42/45 [28:26<03:22, 67.46s/it]/opt/conda/envs/aegnn/lib/python3.8/site-packages/torch/utils/data/dataloader.py:487: UserWarning: This DataLoader will create 16 worker processes in total. Our suggested max number of worker in current system is 8, which is smaller than what this DataLoader is going to create. Please be aware that excessive worker creation might get DataLoader running slow or even freeze, lower the worker number to avoid potential slowness/freeze if necessary.\n",
      "  warnings.warn(_create_warning_msg(\n",
      "evaluation/accuracy_per_events.py:80: FutureWarning: The frame.append method is deprecated and will be removed from pandas in a future version. Use pandas.concat instead.\n",
      "  df = df.append({\"accuracy\": accuracy, \"max_num_events\": max_count}, ignore_index=True)\n",
      " 96%|█████████████████████████████████████████  | 43/45 [29:39<02:17, 68.96s/it]/opt/conda/envs/aegnn/lib/python3.8/site-packages/torch/utils/data/dataloader.py:487: UserWarning: This DataLoader will create 16 worker processes in total. Our suggested max number of worker in current system is 8, which is smaller than what this DataLoader is going to create. Please be aware that excessive worker creation might get DataLoader running slow or even freeze, lower the worker number to avoid potential slowness/freeze if necessary.\n",
      "  warnings.warn(_create_warning_msg(\n",
      "evaluation/accuracy_per_events.py:80: FutureWarning: The frame.append method is deprecated and will be removed from pandas in a future version. Use pandas.concat instead.\n",
      "  df = df.append({\"accuracy\": accuracy, \"max_num_events\": max_count}, ignore_index=True)\n",
      " 98%|██████████████████████████████████████████ | 44/45 [30:54<01:10, 70.86s/it]/opt/conda/envs/aegnn/lib/python3.8/site-packages/torch/utils/data/dataloader.py:487: UserWarning: This DataLoader will create 16 worker processes in total. Our suggested max number of worker in current system is 8, which is smaller than what this DataLoader is going to create. Please be aware that excessive worker creation might get DataLoader running slow or even freeze, lower the worker number to avoid potential slowness/freeze if necessary.\n",
      "  warnings.warn(_create_warning_msg(\n",
      "evaluation/accuracy_per_events.py:80: FutureWarning: The frame.append method is deprecated and will be removed from pandas in a future version. Use pandas.concat instead.\n",
      "  df = df.append({\"accuracy\": accuracy, \"max_num_events\": max_count}, ignore_index=True)\n",
      "100%|███████████████████████████████████████████| 45/45 [32:10<00:00, 42.90s/it]\n",
      "Results are logged in /home/alexmano/aegnn/evaluation/../../aegnn_results/accuracy_per_events.pkl\n"
     ]
    }
   ],
   "source": [
    "path = \"logs/checkpoints/ncaltech101/recognition/20230403001248/epoch=1-step=19.pt\"\n",
    "! python evaluation/accuracy_per_events.py logs/checkpoints/ncaltech101/recognition/20230403003743/epoch=6-step=5739.pt --dataset ncaltech101 --device cuda"
   ]
  },
  {
   "cell_type": "code",
   "execution_count": 2,
   "id": "5757b8a2",
   "metadata": {},
   "outputs": [
    {
     "data": {
      "text/plain": [
       "[<matplotlib.lines.Line2D at 0x7f2040678d60>]"
      ]
     },
     "execution_count": 2,
     "metadata": {},
     "output_type": "execute_result"
    },
    {
     "data": {
      "image/png": "[encoded data removed]",
      "text/plain": [
       "<Figure size 640x480 with 1 Axes>"
      ]
     },
     "metadata": {},
     "output_type": "display_data"
    }
   ],
   "source": [
    "import pandas as pd\n",
    "import matplotlib.pyplot as plt\n",
    "\n",
    "df = pd.read_pickle(\"../aegnn_results/accuracy_per_events.pkl\")\n",
    "plt.plot(df['max_num_events'], df['accuracy'])"
   ]
  },
  {
   "cell_type": "code",
   "execution_count": null,
   "id": "15ccb4ba",
   "metadata": {},
   "outputs": [],
   "source": [
    "import torch\n",
    "from torch_cluster import knn\n",
    "\n",
    "pos_all = torch.Tensor([[-1, -1], [-1, 1], [1, -1], [1, 1]])\n",
    "pos_new = torch.Tensor([[-1, 0], [1, 0], [100, 100], [3,3]])\n",
    "assign_index = knn(pos_new, pos_all, 2)\n",
    "\n"
   ]
  },
  {
   "cell_type": "code",
   "execution_count": null,
   "id": "a11c488a",
   "metadata": {},
   "outputs": [],
   "source": [
    "# first row, indices of y\n",
    "# second row indices of x\n",
    "assign_index"
   ]
  },
  {
   "cell_type": "code",
   "execution_count": null,
   "id": "19e816b2",
   "metadata": {},
   "outputs": [],
   "source": [
    "connected_node_mask = torch.rand((2500, 1000))\n",
    "idx_new_neigh = torch.unique(torch.nonzero(connected_node_mask)[:, 0])\n"
   ]
  },
  {
   "cell_type": "code",
   "execution_count": null,
   "id": "0a0bdc43",
   "metadata": {},
   "outputs": [],
   "source": [
    "idx_new_neigh"
   ]
  },
  {
   "cell_type": "code",
   "execution_count": null,
   "id": "449d801e",
   "metadata": {},
   "outputs": [],
   "source": []
  }
 ],
 "metadata": {
  "kernelspec": {
   "display_name": "Python 3 (ipykernel)",
   "language": "python",
   "name": "python3"
  },
  "language_info": {
   "codemirror_mode": {
    "name": "ipython",
    "version": 3
   },
   "file_extension": ".py",
   "mimetype": "text/x-python",
   "name": "python",
   "nbconvert_exporter": "python",
   "pygments_lexer": "ipython3",
   "version": "3.8.13"
  }
 },
 "nbformat": 4,
 "nbformat_minor": 5
}
