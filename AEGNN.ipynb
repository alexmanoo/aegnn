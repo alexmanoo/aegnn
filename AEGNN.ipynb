{
 "cells": [
  {
   "cell_type": "code",
   "execution_count": 5,
   "id": "bc4e07a5",
   "metadata": {},
   "outputs": [],
   "source": [
    "import os\n",
    "import shutil\n",
    "import random\n",
    "# Set the seed for reproducibility\n",
    "random.seed(42)"
   ]
  },
  {
   "cell_type": "markdown",
   "id": "2aef8ff1",
   "metadata": {},
   "source": [
    "# Prep dataset"
   ]
  },
  {
   "cell_type": "code",
   "execution_count": null,
   "id": "3efcdb67",
   "metadata": {},
   "outputs": [],
   "source": [
    "data_path = 'dataset/caltech.zip'\n",
    "\n",
    "if os.path.isfile(data_path):\n",
    "  print('Dataset zip already exists')\n",
    "else:\n",
    "  print('Downloading N-Caltech101 dataset...')\n",
    "  !mkdir dataset\n",
    "  !cd dataset && wget -O caltech.zip https://prod-dcd-datasets-cache-zipfiles.s3.eu-west-1.amazonaws.com/cy6cvx3ryv-1.zip"
   ]
  },
  {
   "cell_type": "code",
   "execution_count": null,
   "id": "bc2d8023",
   "metadata": {},
   "outputs": [],
   "source": [
    "### Go to `dataset` folder\n",
    "%cd dataset/"
   ]
  },
  {
   "cell_type": "code",
   "execution_count": null,
   "id": "134a7ef6",
   "metadata": {},
   "outputs": [],
   "source": [
    "### Unzip main zip\n",
    "!unzip caltech.zip"
   ]
  },
  {
   "cell_type": "code",
   "execution_count": null,
   "id": "6cd0aaa1",
   "metadata": {},
   "outputs": [],
   "source": [
    "### Unzip the actual dataset Caltech101:\n",
    "!unzip cy6cvx3ryv-1/Caltech101.zip"
   ]
  },
  {
   "cell_type": "code",
   "execution_count": null,
   "id": "70f1c632",
   "metadata": {
    "scrolled": true
   },
   "outputs": [],
   "source": [
    "### Unzip the annotations of Caltech101:\n",
    "!unzip cy6cvx3ryv-1/Caltech101_annotations.zip"
   ]
  },
  {
   "cell_type": "code",
   "execution_count": 10,
   "id": "f4816ab1",
   "metadata": {},
   "outputs": [],
   "source": [
    "### Make the new ncaltech101 main directory\n",
    "import os\n",
    "import shutil\n",
    "import random\n",
    "# Set the seed for reproducibility\n",
    "random.seed(42)\n",
    "\n",
    "!rm -rf ncaltech101\n",
    "\n",
    "original_dir = 'Caltech101'\n",
    "new_dir = 'ncaltech101'\n",
    "\n",
    "if os.path.exists(new_dir):\n",
    "    print('The directory `ncaltech101` already exists. Please delete it and try again.')\n",
    "else:\n",
    "  os.mkdir(new_dir)"
   ]
  },
  {
   "cell_type": "code",
   "execution_count": 11,
   "id": "bc45a317",
   "metadata": {},
   "outputs": [],
   "source": [
    "### Make the train, validation, test, raw, annotations directories.\n",
    "train_dir = os.path.join(new_dir, 'training')\n",
    "val_dir = os.path.join(new_dir, 'validation')\n",
    "test_dir = os.path.join(new_dir, 'test')\n",
    "raw_dir = os.path.join(new_dir, 'raw')\n",
    "ann_dir = os.path.join(new_dir, 'annotations')\n",
    "\n",
    "os.mkdir(train_dir)\n",
    "os.mkdir(val_dir)\n",
    "os.mkdir(test_dir)\n",
    "os.mkdir(raw_dir)\n",
    "os.mkdir(ann_dir)"
   ]
  },
  {
   "cell_type": "code",
   "execution_count": 12,
   "id": "55bd4d67",
   "metadata": {},
   "outputs": [],
   "source": [
    "### Copy annotations into ncaltech101/annotations dir.\n",
    "!cp -a 'Caltech101_annotations/.' 'ncaltech101/annotations'"
   ]
  },
  {
   "cell_type": "code",
   "execution_count": 13,
   "id": "f1a9a719",
   "metadata": {},
   "outputs": [
    {
     "name": "stdout",
     "output_type": "stream",
     "text": [
      "{'crocodile': 50, 'lotus': 66, 'menorah': 87}\n"
     ]
    }
   ],
   "source": [
    "### Make a directory for each class in the train, validation, test and raw directories.\n",
    "### At the same time, get the number of images in each class.\n",
    "class_counts = {}\n",
    "\n",
    "class_folders = os.listdir(original_dir)[:3]\n",
    "\n",
    "for class_dir in class_folders:\n",
    "    os.mkdir(os.path.join(train_dir, class_dir))\n",
    "    os.mkdir(os.path.join(val_dir, class_dir))\n",
    "    os.mkdir(os.path.join(test_dir, class_dir))\n",
    "    os.mkdir(os.path.join(raw_dir, class_dir))\n",
    "\n",
    "    class_counts[class_dir] = len(os.listdir(os.path.join(original_dir, class_dir)))\n",
    "\n",
    "print (class_counts)"
   ]
  },
  {
   "cell_type": "code",
   "execution_count": 14,
   "id": "21a91d11",
   "metadata": {},
   "outputs": [],
   "source": [
    "### Copy the data into the train, validation and test directories (80%, 10%, 10%)\n",
    "for class_dir in class_folders:\n",
    "    images = os.listdir(os.path.join(original_dir, class_dir))\n",
    "    random.shuffle(images)\n",
    "\n",
    "    train_images = images[:int(0.4 * class_counts[class_dir])]\n",
    "    val_images = images[int(0.4 * class_counts[class_dir]):int(0.45 * class_counts[class_dir])]\n",
    "    test_images = images[int(0.45 * class_counts[class_dir]):int(0.5 * class_counts[class_dir])]\n",
    "\n",
    "    for image in train_images:\n",
    "        shutil.copyfile(os.path.join(original_dir, class_dir, image), os.path.join(train_dir, class_dir, image))\n",
    "\n",
    "    for image in val_images:\n",
    "        shutil.copyfile(os.path.join(original_dir, class_dir, image), os.path.join(val_dir, class_dir, image))\n",
    "\n",
    "    for image in test_images:\n",
    "        shutil.copyfile(os.path.join(original_dir, class_dir, image), os.path.join(test_dir, class_dir, image))"
   ]
  },
  {
   "cell_type": "code",
   "execution_count": 15,
   "id": "f812cb21",
   "metadata": {},
   "outputs": [
    {
     "name": "stdout",
     "output_type": "stream",
     "text": [
      "ncaltech101/training 80\n",
      "ncaltech101/validation 10\n",
      "ncaltech101/test 11\n"
     ]
    }
   ],
   "source": [
    "### Check that the data has been split correctly\n",
    "for split in [train_dir, val_dir, test_dir]:\n",
    "    total = 0\n",
    "    for class_dir in os.listdir(split):\n",
    "        total += len(os.listdir(os.path.join(split, class_dir)))\n",
    "    print(split, total)"
   ]
  },
  {
   "cell_type": "code",
   "execution_count": null,
   "id": "d24fa2e6",
   "metadata": {},
   "outputs": [],
   "source": [
    "%cd .."
   ]
  },
  {
   "cell_type": "code",
   "execution_count": null,
   "id": "0e8fca80",
   "metadata": {},
   "outputs": [],
   "source": [
    "%ls dataset/ncaltech101"
   ]
  },
  {
   "cell_type": "markdown",
   "id": "3b53d943",
   "metadata": {},
   "source": [
    "# Pre-processing"
   ]
  },
  {
   "cell_type": "code",
   "execution_count": 22,
   "id": "b5e14251",
   "metadata": {},
   "outputs": [
    {
     "name": "stdout",
     "output_type": "stream",
     "text": [
      "Defaulting to user installation because normal site-packages is not writeable\n",
      "Obtaining file:///home/andrei-carlo/aegnn\n",
      "Installing collected packages: aegnn\n",
      "  Attempting uninstall: aegnn\n",
      "    Found existing installation: aegnn 0.0.0\n",
      "    Uninstalling aegnn-0.0.0:\n",
      "      Successfully uninstalled aegnn-0.0.0\n",
      "  Running setup.py develop for aegnn\n",
      "Successfully installed aegnn-0.0.0\n"
     ]
    }
   ],
   "source": [
    "!pip install -e ."
   ]
  },
  {
   "cell_type": "code",
   "execution_count": 16,
   "id": "6901e80a",
   "metadata": {},
   "outputs": [
    {
     "name": "stdout",
     "output_type": "stream",
     "text": [
      "Global seed set to 12345\n",
      "100%|███████████████████████████████████████████| 80/80 [00:08<00:00,  9.61it/s]\n",
      "100%|███████████████████████████████████████████| 10/10 [00:00<00:00, 17.71it/s]\n"
     ]
    }
   ],
   "source": [
    "! CUDA_VISIBLE_DEVICES=0 python scripts/preprocessing.py --dataset ncaltech101 --num-workers 0"
   ]
  },
  {
   "cell_type": "code",
   "execution_count": null,
   "id": "f4a01186",
   "metadata": {},
   "outputs": [],
   "source": [
    "! python scripts/train.py graph_res --task recognition --dataset ncaltech101 --gpu 0 --batch-size 8 --dim 3 --num-workers 0"
   ]
  },
  {
   "cell_type": "code",
   "execution_count": 23,
   "id": "43b2c3a7",
   "metadata": {},
   "outputs": [
    {
     "name": "stdout",
     "output_type": "stream",
     "text": [
      "  0%|                                                   | 0/100 [00:00<?, ?it/s]Data pos shape:  torch.Size([25000, 3])\n",
      "Data x   shape:  torch.Size([25000, 1])\n",
      "/home/andrei-carlo/aegnn/aegnn/models/networks/graph_res.py:52: UserWarning: __floordiv__ is deprecated, and its behavior will change in a future version of pytorch. It currently rounds toward 0 (like the 'trunc' function NOT 'floor'). This results in incorrect rounding for negative values. To keep the current behavior, use torch.div(a, b, rounding_mode='trunc'), or for actual floor division, use torch.div(a, b, rounding_mode='floor').\n",
      "  self.pool7 = MaxPoolingX(input_shape[:2] // 4, size=16)\n",
      "  0%|                                                   | 0/100 [00:06<?, ?it/s]\n",
      "Traceback (most recent call last):\n",
      "  File \"evaluation/flops.py\", line 131, in <module>\n",
      "    run_experiments(data_module, arguments, experiments=event_counts, num_trials=100,\n",
      "  File \"evaluation/flops.py\", line 106, in run_experiments\n",
      "    model = create_and_run_model(dm, num_events, index=exp_id, args=args, device=device, **model_kwargs)\n",
      "  File \"evaluation/flops.py\", line 61, in create_and_run_model\n",
      "    model = aegnn.asyncronous.make_model_asynchronous(model, args.radius, list(dm.dims), edge_attr, **kwargs)\n",
      "  File \"/home/andrei-carlo/aegnn/aegnn/asyncronous/__init__.py\", line 54, in make_model_asynchronous\n",
      "    module._modules[key] = make_conv_asynchronous(nn, r=r, edge_attributes=edge_attributes,\n",
      "  File \"/home/andrei-carlo/aegnn/aegnn/asyncronous/conv.py\", line 171, in make_conv_asynchronous\n",
      "    assert __check_support(module)\n",
      "  File \"/home/andrei-carlo/aegnn/aegnn/asyncronous/conv.py\", line 148, in __check_support\n",
      "    if module.root is not None:\n",
      "  File \"/opt/conda/envs/aegnn/lib/python3.8/site-packages/torch/nn/modules/module.py\", line 1185, in __getattr__\n",
      "    raise AttributeError(\"'{}' object has no attribute '{}'\".format(\n",
      "AttributeError: 'SplineConv' object has no attribute 'root'\n"
     ]
    }
   ],
   "source": [
    "! CUDA_VISIBLE_DEVICES=0 python evaluation/flops.py --device cuda"
   ]
  },
  {
   "cell_type": "code",
   "execution_count": null,
   "id": "19a2ea36",
   "metadata": {},
   "outputs": [],
   "source": []
  }
 ],
 "metadata": {
  "kernelspec": {
   "display_name": "Python 3 (ipykernel)",
   "language": "python",
   "name": "python3"
  },
  "language_info": {
   "codemirror_mode": {
    "name": "ipython",
    "version": 3
   },
   "file_extension": ".py",
   "mimetype": "text/x-python",
   "name": "python",
   "nbconvert_exporter": "python",
   "pygments_lexer": "ipython3",
   "version": "3.8.13"
  }
 },
 "nbformat": 4,
 "nbformat_minor": 5
}
